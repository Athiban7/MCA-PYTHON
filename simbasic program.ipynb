{
 "cells": [
  {
   "cell_type": "code",
   "execution_count": 1,
   "id": "c40a3ac6",
   "metadata": {},
   "outputs": [
    {
     "name": "stdout",
     "output_type": "stream",
     "text": [
      "<class 'float'>\n"
     ]
    }
   ],
   "source": [
    "d=2.5\n",
    "print(type(d))"
   ]
  },
  {
   "cell_type": "code",
   "execution_count": 4,
   "id": "609e9433",
   "metadata": {},
   "outputs": [
    {
     "name": "stdout",
     "output_type": "stream",
     "text": [
      "enter the number:59\n",
      "it is less than 60\n"
     ]
    }
   ],
   "source": [
    "d=int(input(\"enter the number:\"))\n",
    "if d<60:\n",
    "    print(\"it is less than 60\")\n",
    "else:\n",
    "    print(\"it is greater than 60\")"
   ]
  },
  {
   "cell_type": "code",
   "execution_count": 6,
   "id": "8f51963a",
   "metadata": {},
   "outputs": [
    {
     "name": "stdout",
     "output_type": "stream",
     "text": [
      "2 4 6 8 10 12 14 16 18 20 "
     ]
    }
   ],
   "source": [
    "start_number=2\n",
    "end_number=50\n",
    "count=0\n",
    "for num in range(start_number,end_number+1,2):\n",
    "    if count<10:\n",
    "        print(num,end=\" \")\n",
    "        count+=1\n",
    "    else:\n",
    "        break"
   ]
  },
  {
   "cell_type": "code",
   "execution_count": 7,
   "id": "ab4dfb91",
   "metadata": {},
   "outputs": [
    {
     "name": "stdout",
     "output_type": "stream",
     "text": [
      "50 50 50 50\n"
     ]
    }
   ],
   "source": [
    "x1=y1=z1=w1=50\n",
    "print(x1,y1,z1,w1)"
   ]
  },
  {
   "cell_type": "code",
   "execution_count": 16,
   "id": "0e1d78e7",
   "metadata": {},
   "outputs": [
    {
     "name": "stdout",
     "output_type": "stream",
     "text": [
      "enter the value46\n",
      "good\n"
     ]
    }
   ],
   "source": [
    "a=int(input(\"enter the value\"))\n",
    "if a<=40:\n",
    "    print(\"average\")\n",
    "elif a>40 and a<=50:\n",
    "    print(\"good\")\n",
    "else:\n",
    "    print(\"very good\")"
   ]
  },
  {
   "cell_type": "code",
   "execution_count": 13,
   "id": "c87a7531",
   "metadata": {},
   "outputs": [
    {
     "name": "stdout",
     "output_type": "stream",
     "text": [
      "enter the number6\n",
      "720\n"
     ]
    }
   ],
   "source": [
    "a=int(input(\"enter the number\"))\n",
    "fact=1\n",
    "while a>0:\n",
    "    fact=fact*a\n",
    "    a=a-1\n",
    "print(fact)"
   ]
  },
  {
   "cell_type": "code",
   "execution_count": 14,
   "id": "a380abc4",
   "metadata": {},
   "outputs": [
    {
     "name": "stdout",
     "output_type": "stream",
     "text": [
      "20\n"
     ]
    },
    {
     "ename": "NameError",
     "evalue": "name 'z' is not defined",
     "output_type": "error",
     "traceback": [
      "\u001b[1;31m---------------------------------------------------------------------------\u001b[0m",
      "\u001b[1;31mNameError\u001b[0m                                 Traceback (most recent call last)",
      "\u001b[1;32m~\\AppData\\Local\\Temp\\ipykernel_1364\\4111234649.py\u001b[0m in \u001b[0;36m<module>\u001b[1;34m\u001b[0m\n\u001b[0;32m      2\u001b[0m \u001b[0mprint\u001b[0m\u001b[1;33m(\u001b[0m\u001b[0mz\u001b[0m\u001b[1;33m)\u001b[0m\u001b[1;33m\u001b[0m\u001b[1;33m\u001b[0m\u001b[0m\n\u001b[0;32m      3\u001b[0m \u001b[1;32mdel\u001b[0m \u001b[0mz\u001b[0m\u001b[1;33m\u001b[0m\u001b[1;33m\u001b[0m\u001b[0m\n\u001b[1;32m----> 4\u001b[1;33m \u001b[0mprint\u001b[0m\u001b[1;33m(\u001b[0m\u001b[0mz\u001b[0m\u001b[1;33m)\u001b[0m\u001b[1;33m\u001b[0m\u001b[1;33m\u001b[0m\u001b[0m\n\u001b[0m",
      "\u001b[1;31mNameError\u001b[0m: name 'z' is not defined"
     ]
    }
   ],
   "source": [
    "z=20\n",
    "print(z)\n",
    "del z\n",
    "print(z)"
   ]
  },
  {
   "cell_type": "code",
   "execution_count": 17,
   "id": "5ef7a79a",
   "metadata": {},
   "outputs": [
    {
     "name": "stdout",
     "output_type": "stream",
     "text": [
      "enter num1:30\n",
      "enter num2:33\n",
      "enter num3:64\n",
      "the largest number is 64\n"
     ]
    }
   ],
   "source": [
    "def find_largest(num1,num2,num3):\n",
    "    largest=max(num1,num2,num3)\n",
    "    return largest\n",
    "number1=int(input(\"enter num1:\"))\n",
    "number2=int(input(\"enter num2:\"))\n",
    "number3=int(input(\"enter num3:\"))\n",
    "result=find_largest(number1,number2,number3)\n",
    "print(\"the largest number is\",result)"
   ]
  },
  {
   "cell_type": "code",
   "execution_count": 21,
   "id": "b4f489d6",
   "metadata": {},
   "outputs": [
    {
     "name": "stdout",
     "output_type": "stream",
     "text": [
      "enter the number of terms:11\n",
      "sum of series 66\n"
     ]
    }
   ],
   "source": [
    "a=int(input(\"enter the number of terms:\"))\n",
    "i=1\n",
    "s=0\n",
    "while i<=a:\n",
    "    s=s+i\n",
    "    i=i+1\n",
    "print(\"sum of series\",s)"
   ]
  },
  {
   "cell_type": "code",
   "execution_count": 23,
   "id": "0ffc0fc9",
   "metadata": {},
   "outputs": [
    {
     "name": "stdout",
     "output_type": "stream",
     "text": [
      "enter the number:6\n",
      "it is divisible by 2 or 3\n"
     ]
    }
   ],
   "source": [
    "a=int(input(\"enter the number:\"))\n",
    "if a%2==0 or a%3==0:\n",
    "    print(\"it is divisible by 2 or 3\")\n",
    "else:\n",
    "    print(\"it is not divisible by 2 or 3\")\n"
   ]
  },
  {
   "cell_type": "code",
   "execution_count": 24,
   "id": "d595b14d",
   "metadata": {},
   "outputs": [
    {
     "name": "stdout",
     "output_type": "stream",
     "text": [
      "enter p10000\n",
      "enter r%10\n",
      "enter t2\n",
      "2000.0\n"
     ]
    }
   ],
   "source": [
    "p=int(input(\"enter p\"))\n",
    "r=int(input(\"enter r%\"))\n",
    "t=int(input(\"enter t\"))\n",
    "SI=(p*r*t)/100\n",
    "print(SI)"
   ]
  },
  {
   "cell_type": "code",
   "execution_count": 26,
   "id": "f3deefa4",
   "metadata": {},
   "outputs": [
    {
     "name": "stdout",
     "output_type": "stream",
     "text": [
      "nellai 20 5.5\n"
     ]
    }
   ],
   "source": [
    "var_string,var_integer,var_float=\"nellai\",20,5.5\n",
    "print(var_string,var_integer,var_float)"
   ]
  },
  {
   "cell_type": "code",
   "execution_count": null,
   "id": "1b244a1e",
   "metadata": {},
   "outputs": [],
   "source": []
  }
 ],
 "metadata": {
  "kernelspec": {
   "display_name": "Python 3 (ipykernel)",
   "language": "python",
   "name": "python3"
  },
  "language_info": {
   "codemirror_mode": {
    "name": "ipython",
    "version": 3
   },
   "file_extension": ".py",
   "mimetype": "text/x-python",
   "name": "python",
   "nbconvert_exporter": "python",
   "pygments_lexer": "ipython3",
   "version": "3.9.13"
  }
 },
 "nbformat": 4,
 "nbformat_minor": 5
}
